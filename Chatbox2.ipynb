{
 "cells": [
  {
   "cell_type": "code",
   "execution_count": 1,
   "metadata": {},
   "outputs": [
    {
     "name": "stdout",
     "output_type": "stream",
     "text": [
      "first\n"
     ]
    }
   ],
   "source": [
    "#MAKING A CHATBOX IN PYTHON!!\n",
    "print(\"Welcome come to Kenny's Global Chat service!\")\n",
    "while True:\n",
    "  name = str(input(\"What is your name: \"))\n",
    "  print(\"welcome\", name,\"!\" \"How may I help you?\")\n",
    "  want = str(input(\"Type what you need: \"))\n",
    "  print(\"We would defintely look into this, or you can visit our office for a swifter response\")\n",
    "  print(\"Would you like to speak to one of our agents?\")\n",
    "  reply = str(input().lower())\n",
    "  if reply == \"yes\":\n",
    "    print(\"You can reach any of our agents on 01-0024356\")\n",
    "  else:\n",
    "    print(\"Okay then, thanks for your time\")\n",
    "  print(\"Would you like to know about our other services?\")\n",
    "  others = str(input(\"Type your reply: \").lower())\n",
    "  if others == \"yes\":\n",
    "    print(\"Then visit our website at www.kennyion.com for more information \")\n",
    "  else:\n",
    "    print(\"Thank you for visiting. Hope to see you next time\")\n",
    "  Quit = input(\"To leave this chat service type Q: \" )\n",
    "  if Quit == \"Q\":\n",
    "    break\n",
    " "
   ]
  },
  {
   "cell_type": "code",
   "execution_count": null,
   "metadata": {},
   "outputs": [],
   "source": []
  }
 ],
 "metadata": {
  "kernelspec": {
   "display_name": "Python 3",
   "language": "python",
   "name": "python3"
  },
  "language_info": {
   "codemirror_mode": {
    "name": "ipython",
    "version": 3
   },
   "file_extension": ".py",
   "mimetype": "text/x-python",
   "name": "python",
   "nbconvert_exporter": "python",
   "pygments_lexer": "ipython3",
   "version": "3.6.5"
  }
 },
 "nbformat": 4,
 "nbformat_minor": 4
}
